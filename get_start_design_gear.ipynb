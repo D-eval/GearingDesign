{
 "cells": [
  {
   "cell_type": "markdown",
   "metadata": {},
   "source": [
    "# 带式输送机4-D\n",
    "\n",
    "## 1. 传动装置的总体设计\n",
    "\n",
    "输送带的牵引力: $F_w = 3.2 \\text{ kN}$\n",
    "\n",
    "输送带的速度: $v_w = 0.95 \\text{ m/s}$\n",
    "\n",
    "输送带滚筒的直径: $D = 440 \\text{ mm}$"
   ]
  },
  {
   "cell_type": "code",
   "execution_count": null,
   "metadata": {},
   "outputs": [],
   "source": [
    "import numpy as np\n",
    "\n",
    "# 工作轴\n",
    "F_w = 3.2 # kN\n",
    "v_w = 0.95 # m/s\n",
    "D = 440 # mm\n"
   ]
  },
  {
   "cell_type": "markdown",
   "metadata": {},
   "source": [
    "计算输出轴的参数\n",
    "\n",
    "输出轴工作力矩: $T = F_w \\cdot D / 2$\n",
    "\n",
    "输出轴工作转速: $\\omega = \\frac{v_w}{\\frac{D}{2}\\times 10^{-3}}$\n",
    "\n",
    "输出轴工作功率: $P_w = T \\cdot \\omega$\n"
   ]
  },
  {
   "cell_type": "code",
   "execution_count": 8,
   "metadata": {},
   "outputs": [
    {
     "name": "stdout",
     "output_type": "stream",
     "text": [
      "工作力矩:704.000 N*m , 工作转速:4.318 rad/s, 工作功率:3040.000 W\n"
     ]
    }
   ],
   "source": [
    "# 工作力矩\n",
    "T = F_w * D / 2 # N * m\n",
    "# 工作转速\n",
    "omega = v_w / (D / 2 * 0.001) # rad/s\n",
    "# 工作功率\n",
    "P_w = T * omega # W\n",
    "print('工作力矩:{:.3f} N*m , 工作转速:{:.3f} rad/s, 工作功率:{:.3f} W'.format(T, omega, P_w))"
   ]
  },
  {
   "cell_type": "markdown",
   "metadata": {},
   "source": [
    "工作转速: $n_w = \\frac{60 \\omega}{2 \\pi}$"
   ]
  },
  {
   "cell_type": "code",
   "execution_count": 10,
   "metadata": {},
   "outputs": [
    {
     "name": "stdout",
     "output_type": "stream",
     "text": [
      "工作转速：41.236 rpm\n"
     ]
    }
   ],
   "source": [
    "n_w = 60 * omega / (2 * np.pi)\n",
    "print('工作转速：{:.3f} rpm'.format(n_w))"
   ]
  },
  {
   "cell_type": "markdown",
   "metadata": {},
   "source": [
    "接下来计算工作机所需功率, 我们要考虑图中的效率\n",
    "\n",
    "<img src=\"./fig/f1.jpg\" width=\"25%\" height=\"25%\" align = \"center\">\n",
    "\n",
    "从电动机到工作机的总效率为$\\eta = \\prod \\eta_i$"
   ]
  },
  {
   "cell_type": "code",
   "execution_count": 11,
   "metadata": {},
   "outputs": [
    {
     "name": "stdout",
     "output_type": "stream",
     "text": [
      "总效率为: 0.816\n"
     ]
    }
   ],
   "source": [
    "# 13页表格\n",
    "cls2eta = {\n",
    "    '带': 0.96,\n",
    "    '联轴器': 0.99,\n",
    "    '链': 0.96,\n",
    "    '轴承': 0.98,\n",
    "    '齿轮': 0.98,\n",
    "}\n",
    "\n",
    "# 简图中统计\n",
    "cls_count = {\n",
    "    '带': 1,\n",
    "    '联轴器': 2,\n",
    "    '链': 1,\n",
    "    '轴承': 3,\n",
    "    '齿轮': 2,\n",
    "}\n",
    "\n",
    "eta = 1\n",
    "for cls, count in cls_count.items():\n",
    "    eta *= cls2eta[cls] ** count\n",
    "    \n",
    "print('总效率为: {:.3f}'.format(eta))"
   ]
  },
  {
   "cell_type": "markdown",
   "metadata": {},
   "source": [
    "电机所需功率: $P_m = P_w / \\eta$"
   ]
  },
  {
   "cell_type": "code",
   "execution_count": 13,
   "metadata": {},
   "outputs": [
    {
     "name": "stdout",
     "output_type": "stream",
     "text": [
      "电机所需功率为：3723.320 W\n"
     ]
    }
   ],
   "source": [
    "P_m = T * omega / eta\n",
    "print('电机所需功率为：{:.3f} W'.format(P_m))"
   ]
  },
  {
   "cell_type": "markdown",
   "metadata": {},
   "source": [
    "于是根据196页,我们选取电机型号: YE4-112M-4\n",
    "\n",
    "额定功率为$4\\text{kW}$, 满载转速为$1455 \\text{r/min}$, 同步转速为: $n_{m} = 1500 \\text{rpm}$, 轴直径为$\\Phi 28j6$"
   ]
  },
  {
   "cell_type": "code",
   "execution_count": 23,
   "metadata": {},
   "outputs": [
    {
     "name": "stdout",
     "output_type": "stream",
     "text": [
      "总传动比为:35.285\n"
     ]
    }
   ],
   "source": [
    "n_m = 1455\n",
    "i = n_m / n_w\n",
    "print('总传动比为:{:.3f}'.format(i))"
   ]
  },
  {
   "cell_type": "markdown",
   "metadata": {},
   "source": [
    "因为我们需要设计的是一个 _二级圆柱齿轮减速器_\n",
    "\n",
    "根据15页的经验公式, 我们得到了两个传动比\n",
    "\n",
    "$i_1 = \\sqrt{1.3i}$\n",
    "\n",
    "$i_2 = i / i_1$"
   ]
  },
  {
   "cell_type": "code",
   "execution_count": 24,
   "metadata": {},
   "outputs": [
    {
     "name": "stdout",
     "output_type": "stream",
     "text": [
      "i1 = 6.773, i2 = 5.210\n"
     ]
    }
   ],
   "source": [
    "i_1 = np.sqrt(1.3 * i)\n",
    "i_2 = i / i_1\n",
    "print('i1 = {:.3f}, i2 = {:.3f}'.format(i_1, i_2))"
   ]
  },
  {
   "cell_type": "markdown",
   "metadata": {},
   "source": [
    "我们记从电动机到工作机为正向, 减速器的三个轴分别为1,2,3轴,则它们的转速为\n",
    "\n",
    "轴1的转速:$n_1 = n_m$\n",
    "\n",
    "轴2的转速:$n_2 = n_1 / i_1$\n",
    "\n",
    "轴3的转速:$n_3 = n_2 / i_2$"
   ]
  },
  {
   "cell_type": "code",
   "execution_count": 27,
   "metadata": {},
   "outputs": [
    {
     "name": "stdout",
     "output_type": "stream",
     "text": [
      "轴1的转速为:1455.000, 轴2的转速为:214.831, 轴3的转速为:41.236\n"
     ]
    }
   ],
   "source": [
    "n1 = n_m\n",
    "n2 = n1 / i_1\n",
    "n3 = n2 / i_2\n",
    "print('轴1的转速为:{:.3f}, 轴2的转速为:{:.3f}, 轴3的转速为:{:.3f}'.format(n1, n2, n3))"
   ]
  },
  {
   "cell_type": "markdown",
   "metadata": {},
   "source": [
    "各轴的输入功率为\n",
    "\n",
    "$\\eta_1 = \\eta_{联轴器} \\cdot \\eta_{轴承}$\n",
    "\n",
    "$P_1 = P_m \\cdot \\eta_1$\n",
    "\n",
    "$\\eta_2 = \\eta_{齿轮} \\cdot \\eta_{轴承}$\n",
    "\n",
    "$P_2 = P_1 \\cdot \\eta_2$\n",
    "\n",
    "$\\eta_3 = \\eta_{齿轮} \\cdot \\eta_{轴承}$\n",
    "\n",
    "$P_3 = P_2 \\cdot \\eta_3$"
   ]
  },
  {
   "cell_type": "code",
   "execution_count": 28,
   "metadata": {},
   "outputs": [
    {
     "name": "stdout",
     "output_type": "stream",
     "text": [
      "P1 = 2949.408 W, P2 = 2832.611 W, P3 = 2720.440 W\n"
     ]
    }
   ],
   "source": [
    "eta_1 = cls2eta['联轴器'] * cls2eta['轴承']\n",
    "eta_2 = cls2eta['齿轮'] * cls2eta['轴承']\n",
    "eta_3 = cls2eta['齿轮'] * cls2eta['轴承']\n",
    "P_1 = P_w * eta_1\n",
    "P_2 = P_1 * eta_2\n",
    "P_3 = P_2 * eta_3\n",
    "print('P1 = {:.3f} W, P2 = {:.3f} W, P3 = {:.3f} W'.format(P_1, P_2, P_3))"
   ]
  },
  {
   "cell_type": "markdown",
   "metadata": {},
   "source": [
    "各轴的输入转矩\n",
    "\n",
    "$T_1 = 9.55 P_1 / n_1$\n",
    "\n",
    "$T_2 = 9.55 P_2 / n_2$\n",
    "\n",
    "$T_3 = 9.55 P_3 / n_3$"
   ]
  },
  {
   "cell_type": "code",
   "execution_count": 60,
   "metadata": {},
   "outputs": [
    {
     "name": "stdout",
     "output_type": "stream",
     "text": [
      "T1 = 19.359 N*m, T2 = 125.920 N*m, T3 = 630.043 N*m\n"
     ]
    }
   ],
   "source": [
    "T_1 = 9.55 * P_1 / n1\n",
    "T_2 = 9.55 * P_2 / n2\n",
    "T_3 = 9.55 * P_3 / n3\n",
    "print('T1 = {:.3f} N*m, T2 = {:.3f} N*m, T3 = {:.3f} N*m'.format(T_1, T_2, T_3))"
   ]
  },
  {
   "cell_type": "markdown",
   "metadata": {},
   "source": [
    "## 2. 传动零件设计和联轴器的选择\n",
    "\n",
    "### 2.1. 初算轴径\n",
    "\n",
    "机械设计381页公式\n",
    "\n",
    "扭转切应力: $\\tau_{T} = \\frac{9550 P/n}{0.2 d^3} \\le [\\tau_{T}]$\n",
    "\n",
    "于是:\n",
    "\n",
    "$d \\ge A_0 (\\frac{0.001P}{n})^{1/3}$\n",
    "\n",
    "选取轴材料为<font color='red'>45钢</font>\n",
    "\n",
    "查382页表, 由于只受扭矩, $A_0$取较小值, 所以取 $A_0 = 103$\n",
    "\n",
    "于是, 我们得到了各轴的最小轴径估计"
   ]
  },
  {
   "cell_type": "code",
   "execution_count": 61,
   "metadata": {},
   "outputs": [
    {
     "name": "stdout",
     "output_type": "stream",
     "text": [
      "d1 = 13.036 mm, d2 = 24.333 mm, d3 = 41.619 mm\n"
     ]
    }
   ],
   "source": [
    "# 查表\n",
    "A0 = 103\n",
    "d1 = A0 * (0.001 * P_1/n1)**(1/3)\n",
    "d2 = A0 * (0.001 * P_2/n2)**(1/3)\n",
    "d3 = A0 * (0.001 * P_3/n3)**(1/3)\n",
    "\n",
    "print('d1 = {:.3f} mm, d2 = {:.3f} mm, d3 = {:.3f} mm'.format(d1, d2, d3))"
   ]
  },
  {
   "cell_type": "markdown",
   "metadata": {},
   "source": [
    "各轴都安装有一个大齿轮,键槽数都是1, 都增大$7\\%$"
   ]
  },
  {
   "cell_type": "code",
   "execution_count": null,
   "metadata": {},
   "outputs": [],
   "source": [
    "d1 *= 1.07\n",
    "d2 *= 1.07\n",
    "d3 *= 1.07\n",
    "print(d1,d2,d3)"
   ]
  },
  {
   "cell_type": "markdown",
   "metadata": {},
   "source": [
    "## 2.2 齿轮设计\n",
    "\n",
    "### 2.2.1 初步设计\n",
    "\n",
    "精度等级: 由机械设计216页, 带式输送机为一般工作机器, 选用7级精度.\n",
    "\n",
    "材料选择: 由机械设计203页, 选择小齿轮材料为40Cr(调质),齿面硬度 $280$ HBW;大齿轮材料为$45$钢(调质),齿面硬度 $240$ HBW.\n",
    "\n",
    "压力角$\\alpha$的选择: 机械设计216页, 压力角选择$\\alpha = 20^\\circ$\n",
    "\n",
    "齿宽系数 $\\phi_d$ 的选择: 根据机械设计216页表10-8, 我们的装置情况为\"两支承相对于小齿轮作不对称布置\", 我们选取$\\phi_d = 0.8$."
   ]
  },
  {
   "cell_type": "code",
   "execution_count": 62,
   "metadata": {},
   "outputs": [
    {
     "name": "stdout",
     "output_type": "stream",
     "text": [
      "alpha = 0.349 rad\n",
      "phi_d = 0.800\n"
     ]
    }
   ],
   "source": [
    "alpha = np.deg2rad(20)\n",
    "print('alpha = {:.3f} rad'.format(alpha))\n",
    "phi_d = 0.8\n",
    "print('phi_d = {:.3f}'.format(phi_d))"
   ]
  },
  {
   "cell_type": "markdown",
   "metadata": {},
   "source": [
    "### 2.2.2 齿数$z$的选择\n",
    "\n",
    "机械设计216页, 选 $z_1=17$, $z_2' = 20 $\n",
    "\n",
    "则:\n",
    "\n",
    "$z_2 = \\lceil z_1 i_1 \\rceil$\n",
    "\n",
    "$z_3 = \\lceil z_2' i_2 \\rceil$"
   ]
  },
  {
   "cell_type": "code",
   "execution_count": 63,
   "metadata": {},
   "outputs": [
    {
     "name": "stdout",
     "output_type": "stream",
     "text": [
      "z2 = 116, z3 = 105\n"
     ]
    }
   ],
   "source": [
    "z1_small = 17\n",
    "z2_small = 20\n",
    "z2 = int(np.ceil(z1_small * i_1))\n",
    "z3 = int(np.ceil(z2_small * i_2))\n",
    "print('z2 = {}, z3 = {}'.format(z2, z3))"
   ]
  },
  {
   "cell_type": "markdown",
   "metadata": {},
   "source": [
    "### 2.2.3 试算小齿轮分度圆直径\n",
    "\n",
    "我们按照齿面接触疲劳强度设计齿轮的分度圆直径.\n",
    "\n",
    "根据机械设计214页公式\n",
    "\n",
    "$d \\ge \\sqrt[3]{\\frac{2K_{Ht} T}{\\phi_{d}} \\frac{u + 1}{u} (\\frac{Z_H Z_E Z_{\\varepsilon}}{[\\sigma_H]})^2 }$\n",
    "\n",
    "其中$T$为小齿轮传递的转矩, 即大齿轮轴的输入转矩\n",
    "\n",
    "于是我们只需要确定$K_{Ht},u,Z_H,Z_E,Z_{\\varepsilon},[\\sigma_H]$"
   ]
  },
  {
   "cell_type": "markdown",
   "metadata": {},
   "source": [
    "&ensp; 接触疲劳强度计算的载荷系数: $K_{Ht}$ 试选 $K_{Ht}=1.3$\n",
    "\n",
    "&ensp; 齿数比: $u = \\frac{z_2}{z_1}$\n",
    "\n",
    "&ensp; 区域系数: $Z_H = \\frac{2}{\\cos\\alpha \\sin\\alpha}$\n",
    "\n",
    "&ensp; 弹性影响系数: $Z_E=188 \\text{MPa}^{1/2}$\n",
    "\n",
    "&ensp; 重合度系数 $Z_{\\varepsilon}$:\n",
    "\n",
    "&ensp; &ensp; 首先计算齿顶压力角: $\\alpha_{a} = \\arccos(\\frac{z\\cos\\alpha}{z+2h_a^{*}})$\n",
    "\n",
    "&ensp; &ensp; 然后计算重合度: $\\varepsilon_{\\alpha} = \\frac{z_1(\\tan\\alpha_{a1}-\\tan\\alpha)+z_2(\\tan\\alpha_{a2}-\\tan\\alpha)}{2\\pi}$\n",
    "\n",
    "&ensp; &ensp; 最后得到重合度系数: $Z_{\\varepsilon} = \\sqrt{\\frac{4 - \\varepsilon_{\\alpha}}{3}}$\n",
    "\n",
    "&ensp; 接触疲劳许用应力 $[\\sigma_H]$:\n",
    "\n",
    "&ensp; &ensp; 首先计算应力循环次数$N$: $N = 60njL_h$\n",
    "\n",
    "&ensp; &ensp; &ensp; 齿轮每转一圈,同一齿面的啮合次数: $j = 1$\n",
    "\n",
    "&ensp; &ensp; &ensp; 齿轮的工作寿命(hour): $L_h = 8\\text{小时/班}\\times 2\\text{班/天} \\times 300 \\text{天/年} \\times 10 \\text{年} = 48000 \\text{小时}$\n",
    "\n",
    "&ensp; &ensp; &ensp; 循环次数: $N = 2880000n$, 三个轴的循环次数分别为$4\\times 10^9, 6\\times 10^8, 1\\times 10^8$\n",
    "\n",
    "&ensp; &ensp; 疲劳寿命系数$K_{HN}$: 查机械设计218页10-19表, 三个轴分别为$K_{HN1}=0.89, K_{HN2}=0.93, K_{HN3}=0.97$\n",
    "\n",
    "&ensp; &ensp; 接触疲劳极限: 由机械设计221页图c得, 小齿轮$\\sigma_{Hlim1}=600 \\text{MPa}$, 大齿轮$\\sigma_{Hlim2}=550 \\text{MPa}$\n",
    "\n",
    "&ensp; &ensp; 取失效概率为$1\\%$, 安全系数$S=1$, 由机械设计217页公式(10-14)得: $[\\sigma]=\\frac{K_N \\sigma_{lim}}{S}$\n",
    "\n",
    "&ensp; &ensp; 计算得到, 轴1与轴2接触副的许用应力为$\\sigma_{H12} = 551.5 \\text{MPa}$, 轴2与轴3接触副的许用应力为$\\sigma_{H23} = 533.5 \\text{MPa}$"
   ]
  },
  {
   "cell_type": "code",
   "execution_count": 64,
   "metadata": {},
   "outputs": [
    {
     "name": "stdout",
     "output_type": "stream",
     "text": [
      "轴1循环次数: 4.190400e+09, 轴2循环次数: 6.187119e+08, 轴3循环次数: 1.187585e+08\n"
     ]
    }
   ],
   "source": [
    "# input: n1,z1,n2,z2\n",
    "def cal_N(n):\n",
    "    return 2880000 * n\n",
    "\n",
    "print('轴1循环次数: {:e}, 轴2循环次数: {:e}, 轴3循环次数: {:e}'.format(cal_N(n1),cal_N(n2),cal_N(n3)))"
   ]
  },
  {
   "cell_type": "code",
   "execution_count": 65,
   "metadata": {},
   "outputs": [
    {
     "name": "stdout",
     "output_type": "stream",
     "text": [
      "轴1上的小齿轮许用应力=511.500 MPa, 轴2上的小齿轮许用应力=533.500 MPa\n"
     ]
    }
   ],
   "source": [
    "N1 = cal_N(n1)\n",
    "N2 = cal_N(n2)\n",
    "N3 = cal_N(n3)\n",
    "\n",
    "# 查表\n",
    "K_HN1 = 0.89\n",
    "K_HN2 = 0.93\n",
    "K_HN3 = 0.97\n",
    "S = 1\n",
    "sigma_Hlim_small = 600\n",
    "sigma_Hlim_big = 550\n",
    "\n",
    "def cal_sigma_H(k_HN1, k_HN2):\n",
    "    sigma_H1 = k_HN1 * sigma_Hlim_small / S\n",
    "    sigma_H2 = k_HN2 * sigma_Hlim_big / S\n",
    "    sigma_H = min(sigma_H1, sigma_H2)\n",
    "    return sigma_H\n",
    "\n",
    "sigma_H_small_1 = cal_sigma_H(K_HN1, K_HN2)\n",
    "sigma_H_small_2 = cal_sigma_H(K_HN2, K_HN3)\n",
    "print('轴1上的小齿轮许用应力={:.3f} MPa, 轴2上的小齿轮许用应力={:.3f} MPa'.format(sigma_H_small_1, sigma_H_small_2))"
   ]
  },
  {
   "cell_type": "code",
   "execution_count": 66,
   "metadata": {},
   "outputs": [
    {
     "name": "stdout",
     "output_type": "stream",
     "text": [
      "重合度 = 1.691\n",
      "重合度系数Z_epsilon = 0.877\n"
     ]
    }
   ],
   "source": [
    "ha_star = 1\n",
    "pi = np.pi\n",
    "# global alpha\n",
    "# input: z1, z2, alpha\n",
    "def cal_epsilon_alpha(z1, z2):\n",
    "    '''计算重合度'''\n",
    "    # 齿顶压力角\n",
    "    alpha_a1 = np.arccos(z1 * np.cos(alpha)/ (z1 + 2*ha_star))\n",
    "    alpha_a2 = np.arccos(z2 * np.cos(alpha)/ (z2 + 2*ha_star))\n",
    "    # 重合度\n",
    "    epsilon_alpha = (z1*(np.tan(alpha_a1) - np.tan(alpha)) + z2*(np.tan(alpha_a2) - np.tan(alpha)))/(2*pi)\n",
    "    return epsilon_alpha\n",
    "\n",
    "epsilon_alpha = cal_epsilon_alpha(z1_small, z2)\n",
    "print('重合度 = {:.3f}'.format(epsilon_alpha))\n",
    "\n",
    "# 重合度系数\n",
    "Z_epsilon = np.sqrt((4-epsilon_alpha)/3)\n",
    "print('重合度系数Z_epsilon = {:.3f}'.format(Z_epsilon))\n",
    "\n",
    "def cal_Z_epsilon(z1,z2):\n",
    "    epsilon_alpha = cal_epsilon_alpha(z1, z2)\n",
    "    Z_epsilon = np.sqrt((4-epsilon_alpha)/3)\n",
    "    return Z_epsilon"
   ]
  },
  {
   "cell_type": "code",
   "execution_count": 77,
   "metadata": {},
   "outputs": [
    {
     "name": "stdout",
     "output_type": "stream",
     "text": [
      "d1t = 66.221 mm, d2t= 121.428 mm\n"
     ]
    }
   ],
   "source": [
    "K_Ht = 1.3\n",
    "\n",
    "def design_d(z1,z2,sigma_H, T1):\n",
    "    u = z2 / z1\n",
    "    Z_H = 2 / (np.cos(alpha) * np.sin(alpha))\n",
    "    Z_E = 188\n",
    "    Z_epsilon = cal_Z_epsilon(z1,z2)\n",
    "    d = (2*K_Ht*1000*T1/(phi_d) * (u+1)/u * (Z_H*Z_E*Z_epsilon/sigma_H)**2)**(1/3)\n",
    "    return d\n",
    "\n",
    "d_1_t = design_d(z1_small,z2,sigma_H_small_1, T_1)\n",
    "d_2_t = design_d(z2_small,z3,sigma_H_small_2, T_2)\n",
    "print('d1t = {:.3f} mm, d2t= {:.3f} mm'.format(d_1_t,d_2_t))\n"
   ]
  },
  {
   "cell_type": "markdown",
   "metadata": {},
   "source": [
    "### 2.2.4 调整小齿轮分度圆直径\n",
    "\n",
    "圆周速度: $v = \\frac{\\pi d_t n}{60\\times 1000}$\n",
    "\n",
    "齿宽: $b=\\phi_d d_t$\n",
    "\n",
    "实际载荷系数 $K_H$ : \n",
    "\n",
    "由机械设计205页表10-2查得齿间载荷分配系数 $K_A$\n",
    "\n",
    "由机械设计206页图10-8,根据$v$和7级精度选取动载荷系数 $K_v$\n",
    "\n",
    "齿间载荷分配系数 $K_{H\\alpha}$\n",
    "\n",
    "&ensp; $F_{t} = \\frac{2T}{d_t}$\n",
    "\n",
    "&ensp; $\\frac{K_AF_t}{b}= ? 100 \\text{N/mm}$\n",
    "\n",
    "查机械设计207页表10-3得齿间载荷分配系数 $K_{H\\alpha}=$\n",
    "\n",
    "由表机械设计208页表10-4对$b$用插值法查得7级精度、小齿轮相对支撑非对称布局时的齿向载荷分布系数 $K_{H\\beta}=$\n",
    "\n",
    "由此, 得到实际载荷系数\n",
    "\n",
    "$$K_H = K_A K_v K_{H\\alpha} K_{H\\beta} =$$\n",
    "\n",
    "由机械设计215页公式10-12可得按实际载荷系数算得的分度圆直径:\n",
    "\n",
    "$$\n",
    "d_{H} = d_t \\sqrt[3]{\\frac{K_H}{K_{Ht}}}\n",
    "$$"
   ]
  },
  {
   "cell_type": "code",
   "execution_count": 87,
   "metadata": {},
   "outputs": [
    {
     "name": "stdout",
     "output_type": "stream",
     "text": [
      "v=5.04 m/s, b=52.98 mm, less_than_100=True\n",
      "v=1.37 m/s, b=97.14 mm, less_than_100=True\n"
     ]
    }
   ],
   "source": [
    "K_A = 1\n",
    "\n",
    "def print_v_b(dt, n, T):\n",
    "    v = pi * dt * n / (60 * 1000)\n",
    "    b = phi_d * dt\n",
    "    Ft = 2 * T / (0.001 * dt)\n",
    "    less_than_100 = K_A * Ft / b < 100\n",
    "    print('v={:.2f} m/s, b={:.2f} mm, less_than_100={}'.format(v,b,less_than_100))\n",
    "    return b\n",
    "\n",
    "b1 =print_v_b(d_1_t, n1, T_1)\n",
    "b2 = print_v_b(d_2_t, n2, T_2)"
   ]
  },
  {
   "cell_type": "markdown",
   "metadata": {},
   "source": [
    "轴1:$K_v = 1.14$, $K_{H\\alpha}=1.2$\n",
    "\n",
    "轴2:$K_v = 1.05$, $K_{H\\alpha}=1.2$"
   ]
  },
  {
   "cell_type": "code",
   "execution_count": 91,
   "metadata": {},
   "outputs": [
    {
     "name": "stdout",
     "output_type": "stream",
     "text": [
      "KHb1=1.204, KHb2=1.214\n"
     ]
    }
   ],
   "source": [
    "\n",
    "# 查表\n",
    "K_v1 = 1.14\n",
    "K_v2 = 1.05\n",
    "K_Ha1 = 1.2\n",
    "K_Ha2 = 1.2\n",
    "\n",
    "def interpolation(x1,y1,x2,y2,x):\n",
    "    k = (y2-y1)/(x2-x1)\n",
    "    dx = x - x1\n",
    "    y = k*dx + y1\n",
    "    return y\n",
    "\n",
    "# 查表\n",
    "K_Hb1 = interpolation(40,1.201,80,1.210,b1)\n",
    "K_Hb2 = interpolation(80,1.210,120,1.219,b2)\n",
    "print('KHb1={:.3f}, KHb2={:.3f}'.format(K_Hb1,K_Hb2))\n"
   ]
  },
  {
   "cell_type": "code",
   "execution_count": 92,
   "metadata": {},
   "outputs": [
    {
     "name": "stdout",
     "output_type": "stream",
     "text": [
      "KH1=1.647, KH2=1.529\n"
     ]
    }
   ],
   "source": [
    "K_H_1 = K_A * K_v1 * K_Ha1 * K_Hb1\n",
    "K_H_2 = K_A * K_v2 * K_Ha2 * K_Hb2\n",
    "print('KH1={:.3f}, KH2={:.3f}'.format(K_H_1, K_H_2))"
   ]
  },
  {
   "cell_type": "code",
   "execution_count": 130,
   "metadata": {},
   "outputs": [
    {
     "name": "stdout",
     "output_type": "stream",
     "text": [
      "d1H=71.654 mm, d2H=128.188 mm\n"
     ]
    }
   ],
   "source": [
    "K_H_t1 = K_Ht\n",
    "K_H_t2 = K_Ht\n",
    "\n",
    "d_1_H = d_1_t * (K_H_1 / K_H_t1)**(1/3)\n",
    "d_2_H = d_2_t * (K_H_2 / K_H_t2)**(1/3)\n",
    "print('d1H={:.3f} mm, d2H={:.3f} mm'.format(d_1_H, d_2_H))"
   ]
  },
  {
   "cell_type": "markdown",
   "metadata": {},
   "source": [
    "相应的齿轮模数 $m_H = \\frac{d_{H}}{z}$"
   ]
  },
  {
   "cell_type": "code",
   "execution_count": 131,
   "metadata": {},
   "outputs": [
    {
     "name": "stdout",
     "output_type": "stream",
     "text": [
      "m_H = 4.215\n"
     ]
    }
   ],
   "source": [
    "m_H = d_1_H / z1_small\n",
    "print('m_H = {:.3f}'.format(m_H))"
   ]
  },
  {
   "cell_type": "markdown",
   "metadata": {},
   "source": [
    "### 2.2.5 按齿根疲劳强度设计\n",
    "\n",
    "模数\n",
    "\n",
    "$$\n",
    "m_t \\ge \\sqrt[3]{\\frac{2K_{Ft}T_1Y_{\\varepsilon}}{\\phi_d z_1^2} \\frac{Y_{Fa}Y_{Sa}}{[\\sigma_F]}}\n",
    "$$\n",
    "\n",
    "试选$K_{Ft}=1.3$\n",
    "\n",
    "弯曲疲劳强度 $Y_{\\varepsilon} = 0.25 + \\frac{0.75}{\\varepsilon_{\\alpha}}$"
   ]
  },
  {
   "cell_type": "code",
   "execution_count": 132,
   "metadata": {},
   "outputs": [
    {
     "name": "stdout",
     "output_type": "stream",
     "text": [
      "0.6934123899726368\n"
     ]
    }
   ],
   "source": [
    "K_Ft = 1.3\n",
    "\n",
    "Y_epsilon = 0.25 + 0.75 / epsilon_alpha\n",
    "\n",
    "print(Y_epsilon)"
   ]
  },
  {
   "cell_type": "markdown",
   "metadata": {},
   "source": [
    "计算 $\\frac{Y_{Fa} Y_{Sa}}{[\\sigma_F]}$\n",
    "\n",
    "由P211表10-5查得\n",
    "\n",
    "齿型系数 $Y_{Fa1}=2.97, Y_{Fa2}=2.18$\n",
    "\n",
    "应力修正系数 $Y_{Sa1}=1.52, Y_{Sa2}=1.79$\n",
    "\n",
    "由P219图10-20c查得小齿轮和大齿轮的齿根弯曲疲劳极限分别为$\\sigma_{Flim1}=500\\text{MPa}, \\sigma_{Flim2}=320\\text{MPa}$\n",
    "\n",
    "由P218图10-18查得弯曲疲劳寿命系数$K_{FN1}=0.9, K_{FN2}=0.95$.\n",
    "\n",
    "取弯曲疲劳安全系数$S=1.4$,由P217公式10-14得\n",
    "\n",
    "$[\\sigma_F]_1 = \\frac{K_{FN1}\\sigma_{Flim1}}{S}$\n",
    "\n",
    "$\\frac{Y_{Fa1}Y_{Sa1}}{[\\sigma_F]_1}$ 取较大者"
   ]
  },
  {
   "cell_type": "code",
   "execution_count": 133,
   "metadata": {},
   "outputs": [
    {
     "name": "stdout",
     "output_type": "stream",
     "text": [
      "0.01797065789473684\n"
     ]
    }
   ],
   "source": [
    "# 查表\n",
    "Y_Fa1 = 2.97\n",
    "Y_Fa2 = 2.18\n",
    "Y_Sa1 = 1.52\n",
    "Y_Sa2 = 1.79\n",
    "sigma_Flim1 = 500\n",
    "sigma_Flim2 = 320\n",
    "K_FN1 = 0.9\n",
    "K_FN2 = 0.95\n",
    "S_ = 1.4\n",
    "\n",
    "sigma_F_1 = K_FN1 * sigma_Flim1 / S_\n",
    "temp_1 = Y_Fa1 * Y_Sa1 / sigma_F_1\n",
    "\n",
    "sigma_F_2 = K_FN2 * sigma_Flim2 / S_\n",
    "temp_2 = Y_Fa2 * Y_Sa2 / sigma_F_2\n",
    "\n",
    "temp = max(temp_1, temp_2)\n",
    "\n",
    "print(temp)"
   ]
  },
  {
   "cell_type": "code",
   "execution_count": 134,
   "metadata": {},
   "outputs": [
    {
     "name": "stdout",
     "output_type": "stream",
     "text": [
      "mt=1.395\n"
     ]
    }
   ],
   "source": [
    "m_t = (2*K_Ft*1000*T_1*Y_epsilon/(phi_d*z1_small**2) * temp)**(1/3)\n",
    "print('mt={:.3f}'.format(m_t))"
   ]
  },
  {
   "cell_type": "markdown",
   "metadata": {},
   "source": [
    "### 2.2.6 调整齿轮模数\n",
    "\n",
    "圆周速度 \n",
    "\n",
    "$d_1 = m_t z_1 \\text{ mm}$\n",
    "\n",
    "$v = \\frac{\\pi d_1 n_1}{60\\times 1000}$\n",
    "\n",
    "齿宽 $b = \\phi_d d_1$\n",
    "\n",
    "宽高比 $b/h$\n",
    "\n",
    "$h=(2h_a^* + c^*)m_t$\n",
    "\n",
    "$\\frac{b}{h} = ?$"
   ]
  },
  {
   "cell_type": "code",
   "execution_count": 135,
   "metadata": {},
   "outputs": [
    {
     "name": "stdout",
     "output_type": "stream",
     "text": [
      "d_1=23.709 mm\n",
      "v=1.806 m/s, b/h=6.044\n"
     ]
    }
   ],
   "source": [
    "c_star = 0.25 # GB\n",
    "\n",
    "d_1 = m_t * z1_small\n",
    "print('d_1={:.3f} mm'.format(d_1))\n",
    "v = pi * d_1 * n1 / (60 * 1000)\n",
    "b = phi_d * d_1\n",
    "h = (2*ha_star + c_star)*m_t\n",
    "b_div_h = b / h\n",
    "print('v={:.3f} m/s, b/h={:.3f}'.format(v,b_div_h))"
   ]
  },
  {
   "cell_type": "markdown",
   "metadata": {},
   "source": [
    "计算实际载荷系数 $K_F$\n",
    "\n",
    "根据 $v=1.615 \\text{ m/s}$, 7级精度, 由图P206图10-8查得动载系数$K_v = 1.05$\n",
    "\n",
    "由 $F_{t1} = 2T_1/(0.001d_1)$, 然后$K_AF_{t1}/b=?100 \\text{N/mm}$,由 P207 表10-3查得齿间载荷分配系数 $K_{F\\alpha}$\n",
    "\n",
    "由P208表10-4用插值法查得$K_{Hb}=$,结合$b/h$,查P208图10-13,得$K_{F\\beta}=?$\n",
    "\n",
    "则载荷系数为\n",
    "\n",
    "$$K_F = K_A K_v K_{F\\alpha} K_{F\\beta}$$"
   ]
  },
  {
   "cell_type": "code",
   "execution_count": 136,
   "metadata": {},
   "outputs": [
    {
     "name": "stdout",
     "output_type": "stream",
     "text": [
      "less_than_100:True\n"
     ]
    }
   ],
   "source": [
    "# 查表\n",
    "K_v = 1.05\n",
    "F_t1 = 2*T_1 / (0.001 * d_1)\n",
    "less_than_100 = K_A * F_t1 / b < 100\n",
    "print('less_than_100:{}'.format(less_than_100))"
   ]
  },
  {
   "cell_type": "code",
   "execution_count": 137,
   "metadata": {},
   "outputs": [
    {
     "name": "stdout",
     "output_type": "stream",
     "text": [
      "b=18.96754034565983\n"
     ]
    }
   ],
   "source": [
    "K_Fa = 1\n",
    "print('b={}'.format(b))"
   ]
  },
  {
   "cell_type": "code",
   "execution_count": 138,
   "metadata": {},
   "outputs": [
    {
     "data": {
      "text/plain": [
       "1.191535393155547"
      ]
     },
     "execution_count": 138,
     "metadata": {},
     "output_type": "execute_result"
    }
   ],
   "source": [
    "# 查表\n",
    "K_Hb = interpolation(40,1.201,80,1.219,b)\n",
    "K_Hb"
   ]
  },
  {
   "cell_type": "code",
   "execution_count": 139,
   "metadata": {},
   "outputs": [
    {
     "name": "stdout",
     "output_type": "stream",
     "text": [
      "KF=1.202\n"
     ]
    }
   ],
   "source": [
    "# 查表\n",
    "K_Fb = 1.145\n",
    "\n",
    "K_F = K_A * K_v * K_Fa * K_Fb\n",
    "print('KF={:.3f}'.format(K_F))"
   ]
  },
  {
   "cell_type": "markdown",
   "metadata": {},
   "source": [
    "根据\n",
    "\n",
    "$$m_F = m_t \\sqrt[3]{\\frac{K_F}{K_{Ft}}}$$\n",
    "\n",
    "得到实际载荷系数算得的齿轮模数\n",
    "\n",
    "以及相应的小齿轮分度圆直径\n",
    "\n",
    "$$d_F = m_F z_1$$"
   ]
  },
  {
   "cell_type": "code",
   "execution_count": 140,
   "metadata": {},
   "outputs": [
    {
     "name": "stdout",
     "output_type": "stream",
     "text": [
      "m_F = 1.359\n",
      "d_F = 23.100\n"
     ]
    }
   ],
   "source": [
    "m_F = m_t * (K_F / K_Ft) **(1/3)\n",
    "print('m_F = {:.3f}'.format(m_F))\n",
    "\n",
    "d_F = m_F * z1_small\n",
    "print('d_F = {:.3f}'.format(d_F))"
   ]
  },
  {
   "cell_type": "code",
   "execution_count": 141,
   "metadata": {},
   "outputs": [
    {
     "name": "stdout",
     "output_type": "stream",
     "text": [
      "齿面接触疲劳强度计算: m_t = 1.395, d_t = 71.654\n",
      "齿根弯曲疲劳强度计算: m_F = 1.359, d_F = 23.100\n"
     ]
    }
   ],
   "source": [
    "print('齿面接触疲劳强度计算: m_t = {:.3f}, d_t = {:.3f}'.format(m_t, d_1_H))\n",
    "print('齿根弯曲疲劳强度计算: m_F = {:.3f}, d_F = {:.3f}'.format(m_F, d_F))"
   ]
  },
  {
   "cell_type": "markdown",
   "metadata": {},
   "source": [
    "因为一般齿轮模数不应小于2, 所以取$m=2 \\text{mm}$.\n",
    "\n",
    "因为齿轮直径的大小主要取决于齿面接触疲劳强度, 所以取分度圆直径$d_1 = 71.654 \\text{mm}$\n",
    "\n",
    "从而算出小齿轮的齿数 $z_1 = d_1/m$"
   ]
  },
  {
   "cell_type": "code",
   "execution_count": 143,
   "metadata": {},
   "outputs": [
    {
     "name": "stdout",
     "output_type": "stream",
     "text": [
      "小齿轮齿数z1_designed=35.827\n"
     ]
    }
   ],
   "source": [
    "d1_designed = d_1_H\n",
    "m_designed = 2\n",
    "\n",
    "z1_designed = d1_designed / m_designed\n",
    "print('小齿轮齿数z1_designed={:.3f}'.format(z1_designed))"
   ]
  },
  {
   "cell_type": "code",
   "execution_count": 149,
   "metadata": {},
   "outputs": [
    {
     "name": "stdout",
     "output_type": "stream",
     "text": [
      "齿数z1=35, z2=237, 模数=2, 压力角=0.8, 中心距=272.0, 齿轮宽度b1=61.0 b2=56.0. 小齿轮选用40Cr(调质), 大齿轮选用45钢(调质). 7级精度\n"
     ]
    }
   ],
   "source": [
    "d1 = d1_designed\n",
    "m = m_designed\n",
    "z1 = int(z1_designed)\n",
    "z2 = int(z1 * i_1)\n",
    "\n",
    "d1 = z1 * m\n",
    "d2 = z2 * m\n",
    "a = (d1 + d2) / 2 # 中心距\n",
    "b2 = phi_d * d1# 齿轮宽度\n",
    "b1 = b2 + 5\n",
    "\n",
    "print('齿数z1={}, z2={}, 模数={}, 压力角={}, 中心距={}, 齿轮宽度b1={} b2={}. 小齿轮选用40Cr(调质), 大齿轮选用45钢(调质). 7级精度'.format(z1, z2, m, phi_d, a, b1, b2))"
   ]
  },
  {
   "cell_type": "code",
   "execution_count": 150,
   "metadata": {},
   "outputs": [
    {
     "name": "stdout",
     "output_type": "stream",
     "text": [
      "齿数z2small=64, z3=333, 中心距=397.0, 齿轮宽度b2small=107.4 b3=102.4\n"
     ]
    }
   ],
   "source": [
    "d2_small = d_2_H\n",
    "\n",
    "z2_small = int(d2_small / m)\n",
    "z3 = int(z2_small*i_2)\n",
    "\n",
    "d2_small = z2_small * m\n",
    "d3 = z3 * m\n",
    "a_23 = (d2_small + d3) / 2\n",
    "b3 = phi_d * d2_small\n",
    "b2_small = b3 + 5\n",
    "print('齿数z2small={}, z3={}, 中心距={}, 齿轮宽度b2small={} b3={}'.format(z2_small, z3, a_23, b2_small, b3))"
   ]
  },
  {
   "cell_type": "markdown",
   "metadata": {},
   "source": [
    "我们把这些所有齿轮的设计过程封装成一个函数, 按照下述方法调用即可"
   ]
  },
  {
   "cell_type": "code",
   "execution_count": 1,
   "metadata": {},
   "outputs": [
    {
     "name": "stdout",
     "output_type": "stream",
     "text": [
      "工作转速：41.236 rpm\n",
      "总效率为: 0.816\n",
      "电机所需功率为：3723.320 W\n",
      "总传动比为:35.285\n",
      "i1 = 6.773, i2 = 5.210\n",
      "轴1的转速为:1455.000, 轴2的转速为:214.831, 轴3的转速为:41.236\n",
      "P1 = 2949.408 W, P2 = 2832.611 W, P3 = 2720.440 W\n",
      "epsilon_a = 1.691\n",
      "试算 d_1t = 36.44 mm\n",
      "实际 d_1H = 38.58 mm\n",
      "试算 m_t = 1.40 mm\n",
      "K_Fb = 1.15\n",
      "实际 m_F = 1.45 mm\n",
      "实际 d_1F = 24.71 mm\n",
      "齿面接触疲劳强度计算: m_H = 2.269, d_H = 38.577\n",
      "齿根弯曲疲劳强度计算: m_F = 1.453, d_F = 24.706\n",
      "\n",
      "    主要设计结论:\n",
      "    齿数z1 = 19\n",
      "    齿数z2 = 129\n",
      "    模数m = 2 mm\n",
      "    压力角alpha = 20°\n",
      "    中心距a = 148 mm\n",
      "    齿宽b1 = 35 mm\n",
      "    齿宽b2 = 30 mm\n",
      "    小齿轮选用40Cr(调质),\n",
      "    大齿轮选用45钢(调质),\n",
      "    7级精度\n",
      "    \n",
      "epsilon_a = 1.707\n",
      "试算 d_1t = 66.51 mm\n",
      "实际 d_1H = 69.33 mm\n",
      "试算 m_t = 2.33 mm\n",
      "K_Fb = 1.15\n",
      "实际 m_F = 2.25 mm\n",
      "实际 d_1F = 45.01 mm\n",
      "齿面接触疲劳强度计算: m_H = 3.467, d_H = 69.333\n",
      "齿根弯曲疲劳强度计算: m_F = 2.250, d_F = 45.007\n",
      "\n",
      "    主要设计结论:\n",
      "    齿数z1 = 35\n",
      "    齿数z2 = 182\n",
      "    模数m = 2 mm\n",
      "    压力角alpha = 20°\n",
      "    中心距a = 217 mm\n",
      "    齿宽b1 = 61 mm\n",
      "    齿宽b2 = 56 mm\n",
      "    小齿轮选用40Cr(调质),\n",
      "    大齿轮选用45钢(调质),\n",
      "    7级精度\n",
      "    \n"
     ]
    }
   ],
   "source": [
    "from design import design_all\n",
    "# 输入\n",
    "F_w = 3.2 # kN\n",
    "v_w = 0.95 # m/s\n",
    "D = 440 # mm\n",
    "out1, out2, out_shaft = design_all(F_w, v_w, D)\n",
    "z1_small,z2_big,m12,b1_small,b2_big,a12 = out1\n",
    "z2_small,z3_big,m23,b2_small,b3_big,a23 = out2\n",
    "d1,d2,d3 = out_shaft[0]"
   ]
  },
  {
   "cell_type": "markdown",
   "metadata": {},
   "source": [
    "### 2.3 联轴器的选择\n",
    "\n",
    "我们要选用连接电机轴和减速器轴I的联轴器.\n",
    "\n",
    "电机的轴径为$28$,查机械设计课程设计P191,我们可以选取弹性套筒联轴器<font color='red'>LT4</font>, 公秤转矩为$100$,它大于输入转矩$20$,符合要求.\n"
   ]
  }
 ],
 "metadata": {
  "kernelspec": {
   "display_name": "Python 3",
   "language": "python",
   "name": "python3"
  },
  "language_info": {
   "codemirror_mode": {
    "name": "ipython",
    "version": 3
   },
   "file_extension": ".py",
   "mimetype": "text/x-python",
   "name": "python",
   "nbconvert_exporter": "python",
   "pygments_lexer": "ipython3",
   "version": "3.7.9"
  }
 },
 "nbformat": 4,
 "nbformat_minor": 2
}
