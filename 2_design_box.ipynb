{
 "cells": [
  {
   "cell_type": "markdown",
   "id": "52532d21",
   "metadata": {},
   "source": [
    "# 箱体和其他零件的尺寸设计\n",
    "\n",
    "我们现在已经得到了两级减速齿轮的所有参数，以及用工作扭矩计算的轴颈，我们把它封装到`design.design_all`里，可以通过输出牵引力、输送带速度、滚筒直径直接计算"
   ]
  },
  {
   "cell_type": "code",
   "execution_count": 1,
   "id": "550e08c3",
   "metadata": {},
   "outputs": [
    {
     "name": "stdout",
     "output_type": "stream",
     "text": [
      "工作转速：41.236 rpm\n",
      "总效率为: 0.808\n",
      "电机所需功率为：2703.444 W\n",
      "总传动比为:35.285\n",
      "i1 = 6.773, i2 = 5.210\n",
      "轴1的转速为:1455.000, 轴2的转速为:214.831, 轴3的转速为:41.236\n",
      "P1 = 2119.887 W, P2 = 2035.939 W, P3 = 1955.316 W\n",
      "d1 = 11.677 mm, d2 = 21.797 mm, d3 = 37.281 mm\n",
      "T1 = 13.914 N*m, T2 = 90.505 N*m, T3 = 452.843 N*m\n",
      "epsilon_a = 1.691\n",
      "试算 d_1t = 32.64 mm\n",
      "实际 d_1H = 34.47 mm\n",
      "试算 m_t = 1.26 mm\n",
      "K_Fb = 1.15\n",
      "实际 m_F = 1.30 mm\n",
      "实际 d_1F = 22.09 mm\n",
      "齿面接触疲劳强度计算: m_H = 2.028, d_H = 34.469\n",
      "齿根弯曲疲劳强度计算: m_F = 1.300, d_F = 22.094\n",
      "\n",
      "    主要设计结论:\n",
      "    齿数z1 = 17\n",
      "    齿数z2 = 115\n",
      "    模数m = 2 mm\n",
      "    压力角alpha = 20°\n",
      "    中心距a = 132 mm\n",
      "    齿宽b1 = 32 mm\n",
      "    齿宽b2 = 27 mm\n",
      "    小齿轮选用40Cr(调质),\n",
      "    大齿轮选用45钢(调质),\n",
      "    7级精度\n",
      "    \n",
      "epsilon_a = 1.707\n",
      "试算 d_1t = 59.57 mm\n",
      "实际 d_1H = 62.04 mm\n",
      "试算 m_t = 2.09 mm\n",
      "K_Fb = 1.15\n",
      "实际 m_F = 2.01 mm\n",
      "实际 d_1F = 40.29 mm\n",
      "齿面接触疲劳强度计算: m_H = 3.102, d_H = 62.043\n",
      "齿根弯曲疲劳强度计算: m_F = 2.014, d_F = 40.288\n",
      "\n",
      "    主要设计结论:\n",
      "    齿数z1 = 31\n",
      "    齿数z2 = 162\n",
      "    模数m = 2 mm\n",
      "    压力角alpha = 20°\n",
      "    中心距a = 193 mm\n",
      "    齿宽b1 = 54 mm\n",
      "    齿宽b2 = 49 mm\n",
      "    小齿轮选用40Cr(调质),\n",
      "    大齿轮选用45钢(调质),\n",
      "    7级精度\n",
      "    \n",
      "齿数: z1_small = 17.000, z2_big = 115.000, z2_small = 31.000, z3_big = 162.000\n",
      "中心距 a12={:.3f} a23={:.3f}\n",
      "齿宽 b1_small=32.200 b2_big=27.200 b2_small=54.600 b3_big=49.600\n",
      "轴颈下界: d1=11.677 d2=21.797 d3=37.281\n",
      "分度圆直径 d1_small=34.000 d2_big=230.000 d2_small=62.000 d3_big=324.000\n"
     ]
    }
   ],
   "source": [
    "from design import design_all\n",
    "import numpy as np\n",
    "import matplotlib.pyplot as plt\n",
    "import json\n",
    "\n",
    "F_w = 2.3 #v kN\n",
    "v_w = 0.95 #m/s\n",
    "D = 440 #mm\n",
    "\n",
    "out1, out2, out_shaft = design_all(F_w, v_w, D)\n",
    "z1_small,z2_big,m12,b1_small,b2_big,a12 = out1\n",
    "z2_small,z3_big,m23,b2_small,b3_big,a23 = out2\n",
    "d1,d2,d3 = out_shaft[0]\n",
    "\n",
    "d1_small = z1_small * m12\n",
    "d2_big = z2_big * m12\n",
    "d2_small = z2_small * m23\n",
    "d3_big = z3_big * m23\n"
   ]
  },
  {
   "cell_type": "code",
   "execution_count": 3,
   "id": "9a846f5f",
   "metadata": {},
   "outputs": [
    {
     "name": "stdout",
     "output_type": "stream",
     "text": [
      "齿数: z1_small = 17.000, z2_big = 115.000, z2_small = 31.000, z3_big = 162.000\n",
      "中心距 a12=132.000 a23=193.000\n",
      "齿宽 b1_small=32.200 b2_big=27.200 b2_small=54.600 b3_big=49.600\n",
      "轴颈下界: d1=11.677 d2=21.797 d3=37.281\n",
      "分度圆直径 d1_small=34.000 d2_big=230.000 d2_small=62.000 d3_big=324.000\n"
     ]
    }
   ],
   "source": [
    "print('齿数: z1_small = {:.3f}, z2_big = {:.3f}, z2_small = {:.3f}, z3_big = {:.3f}'.format(z1_small,z2_big,z2_small,z3_big))\n",
    "print('中心距 a12={:.3f} a23={:.3f}'.format(a12,a23))\n",
    "print('齿宽 b1_small={:.3f} b2_big={:.3f} b2_small={:.3f} b3_big={:.3f}'.format(b1_small,b2_big,b2_small,b3_big))\n",
    "print('轴颈下界: d1={:.3f} d2={:.3f} d3={:.3f}'.format(d1,d2,d3))\n",
    "print('分度圆直径 d1_small={:.3f} d2_big={:.3f} d2_small={:.3f} d3_big={:.3f}'.format(d1_small,d2_big,d2_small,d3_big))"
   ]
  },
  {
   "cell_type": "markdown",
   "id": "0b31ccb3",
   "metadata": {},
   "source": [
    "现在我们来设计箱体\n",
    "\n",
    "## 设计螺栓\n",
    "\n",
    "根据机械设计`课程设计 Page 23`我们发现每一个螺栓拥有三个参数\n",
    "\n",
    "* $c_1$: 至外箱壁距离\n",
    "* $c_2$: 至凸边缘的距离\n",
    "* $D_0$: 沉头座坑直径\n",
    "* $d$: 螺栓直径\n",
    "\n",
    "因此，我们做了以下的事情\n",
    "* 建立一个类`Bolt`用于表示螺栓\n",
    "* 录制`课程设计 Page 23 表 5-3`为一个字典`Bolt_to_c1c2D0`\n",
    "* 定义了一个函数`select_bolt(d)`，给定螺栓计算直径，选择合适的螺栓直径"
   ]
  },
  {
   "cell_type": "code",
   "execution_count": 9,
   "id": "b69eb95c",
   "metadata": {},
   "outputs": [],
   "source": [
    "ALL_BOLT = [8,10,12,16,20,24,30]\n",
    "def select_bolt(d):\n",
    "    k = ALL_BOLT\n",
    "    k = np.array(k)\n",
    "    d = np.abs(k - d)\n",
    "    idx = np.argmin(d)\n",
    "    return ALL_BOLT[idx]\n",
    "\n",
    "Bolt_to_c1c2D0 = {\n",
    "    8: (13,11,18),\n",
    "    10: (16,14,22),\n",
    "    12: (18,16,26),\n",
    "    16: (22,20,33),\n",
    "    20: (26,24,20),\n",
    "    24: (34,28,48),\n",
    "    30: (40,34,61)\n",
    "}\n",
    "\n",
    "\n",
    "class Bolt:\n",
    "    def __init__(self, d):\n",
    "        self.d = d\n",
    "        self.d = select_bolt(self.d)\n",
    "        self.c1, self.c2, self.D0 = Bolt_to_c1c2D0[self.d]\n",
    "    def __dict__(self):\n",
    "        return {'d':self.d, 'c1':self.c1, 'c2':self.c2, 'D0':self.D0}\n",
    "    \n"
   ]
  },
  {
   "cell_type": "markdown",
   "id": "8f70cf16",
   "metadata": {},
   "source": [
    "## 设计箱体的其他尺寸\n",
    "\n",
    "接下来，我们创建了一个字典`box`用于储存箱体的设计尺寸，根据`课程设计 Page 23 表5-2`进行设计各个尺寸。"
   ]
  },
  {
   "cell_type": "code",
   "execution_count": 5,
   "id": "2d17d0f1",
   "metadata": {},
   "outputs": [],
   "source": [
    "box = {}"
   ]
  },
  {
   "cell_type": "markdown",
   "id": "b2993d1d",
   "metadata": {},
   "source": [
    "首先计算箱座壁厚，由`表5-1`知，对于二级圆柱齿轮减速器，由低速级中心距，即第二齿轮副的中心距 $a$ 决定\n",
    "\n",
    "$$\\delta = \\max \\{0.025a + 1, 8 \\}$$"
   ]
  },
  {
   "cell_type": "code",
   "execution_count": 6,
   "id": "01a7f642",
   "metadata": {},
   "outputs": [
    {
     "name": "stdout",
     "output_type": "stream",
     "text": [
      "delta = 8.000 mm\n"
     ]
    }
   ],
   "source": [
    "box['delta'] = max(8, 0.025*a23+3)\n",
    "print('delta = {:.3f} mm'.format(box['delta']))"
   ]
  },
  {
   "cell_type": "markdown",
   "id": "8fa4ddc2",
   "metadata": {},
   "source": [
    "箱盖壁厚：\n",
    "$$ \\delta_1 = \\max \\{ 0.85 \\delta, 8 \\} $$\n"
   ]
  },
  {
   "cell_type": "code",
   "execution_count": 7,
   "id": "653976ef",
   "metadata": {},
   "outputs": [
    {
     "name": "stdout",
     "output_type": "stream",
     "text": [
      "delta_1 = 8.000 mm\n"
     ]
    }
   ],
   "source": [
    "box['delta_1'] = max(0.85*box['delta'], 8)\n",
    "print('delta_1 = {:.3f} mm'.format(box['delta_1']))"
   ]
  },
  {
   "cell_type": "markdown",
   "id": "66fda61d",
   "metadata": {},
   "source": [
    "地脚螺栓直径：\n",
    "$$ d_f = 0.036a + 12 $$\n",
    "传入`Bolt`中化整、选型"
   ]
  },
  {
   "cell_type": "code",
   "execution_count": 10,
   "id": "05741e7c",
   "metadata": {},
   "outputs": [
    {
     "name": "stdout",
     "output_type": "stream",
     "text": [
      "地脚螺栓d_f的各个参数为:\n",
      "{'d': 20, 'c1': 26, 'c2': 24, 'D0': 20}\n"
     ]
    }
   ],
   "source": [
    "box['d_f'] = Bolt(0.036 * a23 + 12)\n",
    "print('地脚螺栓d_f的各个参数为:')\n",
    "print(box['d_f'].__dict__())"
   ]
  },
  {
   "cell_type": "markdown",
   "id": "42409a21",
   "metadata": {},
   "source": [
    "地脚螺栓个数\n",
    "$$ n=\\left\\{\\begin{matrix}\n",
    " 4 & \\text{if }a\\le 250 \\\\\n",
    " 6 & \\text{if }a\\gt 250\n",
    "\\end{matrix}\\right. $$"
   ]
  },
  {
   "cell_type": "code",
   "execution_count": 12,
   "id": "0644a106",
   "metadata": {},
   "outputs": [
    {
     "name": "stdout",
     "output_type": "stream",
     "text": [
      "地脚螺栓个数为: 4\n"
     ]
    }
   ],
   "source": [
    "box['n'] = 4 if a23<=250 else 6\n",
    "print('地脚螺栓个数为: {}'.format(box['n']))"
   ]
  },
  {
   "cell_type": "markdown",
   "id": "002434a6",
   "metadata": {},
   "source": [
    "其余的参数，由`表5-2`设计得到"
   ]
  },
  {
   "cell_type": "code",
   "execution_count": 14,
   "id": "88276d12",
   "metadata": {},
   "outputs": [],
   "source": [
    "# 铸铁减速箱体结构之二\n",
    "box['b'] = 1.5 * box['delta']\n",
    "box['b_1'] = 1.5 * box['delta_1']\n",
    "box['b_2'] = 2.5 * box['delta']\n",
    "box['d_1'] = Bolt(0.75 * box['d_f'].d)\n",
    "box['d_2'] = Bolt(0.6 * box['d_f'].d)\n",
    "box['l'] = 200\n",
    "box['d_3'] = Bolt(0.5 * box['d_f'].d)\n",
    "box['d_4'] = Bolt(0.4 * box['d_f'].d)\n",
    "box['d'] = 0.8 * box['d_2'].d\n",
    "box['R_1'] = box['d_2'].c2\n",
    "box['l_1'] = box['d_2'].c1 + box['d_2'].c2 + 8\n",
    "box['m_1'] = 0.85 * box['delta_1']\n",
    "box['m'] = 0.85 * box['delta']\n",
    "\n",
    "box['Delta_1'] = box['delta']\n",
    "box['Delta_2'] = box['delta']"
   ]
  },
  {
   "cell_type": "markdown",
   "id": "ee1ee130",
   "metadata": {},
   "source": [
    "为了方便表述，我们把轴向称为$x$向，称为前后，竖直方向称为$z$向，称为上下，$y=z\\times x$称为左右。\n",
    "\n",
    "接下来我们要设计分型面凸缘尺寸，如`Page 28 图6-1`所示：\n",
    "\n",
    "* $A$: $y$方向内壁 到 凸缘$y$向外缘的距离\n",
    "* $B$: $x$方向内壁 到 凸缘$x$向外缘的距离\n",
    "\n",
    "他们的计算由`Page 29 行3`的文字得到\n",
    "\n",
    "$$ A = \\delta + c_1 + c_2 $$\n",
    "\n",
    "$$ B = \\delta + c_1 + c_2 + 5 $$\n",
    "\n",
    "这里的$c_1,c_2$指的是`轴承旁连接螺栓$d_1$`的参数。"
   ]
  },
  {
   "cell_type": "code",
   "execution_count": 15,
   "id": "1d9964ce",
   "metadata": {},
   "outputs": [
    {
     "name": "stdout",
     "output_type": "stream",
     "text": [
      "分箱面凸缘尺寸 A=55.000, B=60.000\n"
     ]
    }
   ],
   "source": [
    "# 分箱面凸缘尺寸A\n",
    "box['A'] = box['delta']+box['d_1'].c1+box['d_1'].c2+5\n",
    "box['B'] = box['A'] + 5\n",
    "print('分箱面凸缘尺寸 A={:.3f}, B={:.3f}'.format(box['A'], box['B']))"
   ]
  },
  {
   "cell_type": "markdown",
   "id": "118bd05b",
   "metadata": {},
   "source": [
    "接下来，我们计算轴、轴套、甩油环、轴承、轴承盖是如何叠在孔上的。\n",
    "\n",
    "根据`Page 33 图6-9`，我们选取脂润滑，然后由图旁的文字得到\n",
    "\n",
    "$$\n",
    "\\left\\{\\begin{matrix}\n",
    " \\text{toOilSlinger} = 3 & 箱体内壁到甩油环 \\\\\n",
    "\\text{ToBearIn} = 12 & 箱体内壁到轴承内侧 \\\\\n",
    "\\text{Delta3} = 10 & 大齿轮距离 \\\\\n",
    "\\text{ShaftToBear} = 3 & 对于闭轴承端盖，端面到轴承外侧平面的距离\n",
    "\\end{matrix}\\right.\n",
    "$$\n",
    "\n"
   ]
  },
  {
   "cell_type": "code",
   "execution_count": 16,
   "id": "4e8b1ce3",
   "metadata": {},
   "outputs": [],
   "source": [
    "# 箱体内壁到甩油环\n",
    "box['to_oil_slinger'] = 3\n",
    "# 箱体内壁到轴承内侧\n",
    "box['to_bear_in'] = 12\n",
    "# 大齿轮距离\n",
    "box['Delta_3'] = 10\n",
    "# 闭轴承盖端, 轴面到轴承外面的距离\n",
    "box['shaft_to_bear'] = 3"
   ]
  },
  {
   "cell_type": "markdown",
   "id": "448229e7",
   "metadata": {},
   "source": [
    "接下来我们计算浸油深度、中心高，首先根据`Page 30 图6-3`得到中心高\n",
    "\n",
    "$$ \\text{HCenterToBottom} = \\text{d3Big}/2 + 30 $$\n",
    "\n",
    "其次我们计算浸油深度，根据`Page 25 表5-4`表述\n",
    "高速级大齿轮的浸油深度$h_f$为齿高的$0.7$ 与 $10$ 之间的较大值\n",
    "\n",
    "$$ h_f = \\max \\{10, 0.7 m_{12}\\times 2.25 \\} $$\n",
    "\n",
    "低速级大齿轮的浸油深度$h_s$为一个尺高和$\\frac{1}{3}$个齿轮半径之间的较大值\n",
    "\n",
    "$$ h_s = \\max \\{ 0.25m_{23}, \\frac{1}{3}m_{23}z_{3,big}/2 \\} $$"
   ]
  },
  {
   "cell_type": "code",
   "execution_count": 18,
   "id": "d4bc3551",
   "metadata": {},
   "outputs": [
    {
     "name": "stdout",
     "output_type": "stream",
     "text": [
      "h_s = 54.000 h_f = 10.000 H_center_to_bottom = 192.000 delta_bottom = 8.000\n"
     ]
    }
   ],
   "source": [
    "# 浸油深度\n",
    "h_f = max(10, 0.7*m12*2.25)\n",
    "h_s = [m23*2.25, 1/3*m23*z3_big/2]\n",
    "h_expect = max(h_s)\n",
    "box['h_s'] = h_expect\n",
    "box['H_center_to_bottom'] = d3_big/2 + 30\n",
    "box['delta_bottom'] = box['delta']\n",
    "box['under_to_ground'] = 5\n",
    "print('h_s = {:.3f} h_f = {:.3f} H_center_to_bottom = {:.3f} delta_bottom = {:.3f}'.format(h_expect, h_f, box['H_center_to_bottom'], box['delta_bottom']))"
   ]
  },
  {
   "cell_type": "markdown",
   "id": "be584144",
   "metadata": {},
   "source": [
    "## 其他零件\n",
    "\n",
    "我们创建一个零件的基类`Part`来管理其他的零件，并存入一个注册表`ALL_PART`中，遍历它即可获得创建的所有零件，方便计算结果的保存。"
   ]
  },
  {
   "cell_type": "code",
   "execution_count": 19,
   "id": "211799fa",
   "metadata": {},
   "outputs": [],
   "source": [
    "ALL_PART = {}\n",
    "class Part:\n",
    "    def __init__(self,key_name):\n",
    "        ALL_PART[key_name] = self"
   ]
  },
  {
   "cell_type": "markdown",
   "id": "25c05261",
   "metadata": {},
   "source": [
    "### 轴承\n",
    "\n",
    "为了确定轴承，我们需要计算轴向载荷，思路是先获取每个轴传递的扭矩，然后根据齿轮直径和压力角计算径向力，最后简化为两端角度约束的弯曲梁问题计算两端的约束力，即可得到轴向载荷。\n",
    "\n",
    "首先我们要获取每个转动副的转矩.\n"
   ]
  },
  {
   "cell_type": "code",
   "execution_count": 21,
   "id": "8413ab3d",
   "metadata": {},
   "outputs": [
    {
     "name": "stdout",
     "output_type": "stream",
     "text": [
      "三个轴传递的力矩分别为: T1=13.914 N/mm, T2=90.505 N/mm, T3=452.843 N/mm\n"
     ]
    }
   ],
   "source": [
    "T1,T2,T3 = out_shaft[3]\n",
    "print('三个轴传递的力矩分别为: T1={:.3f} N/mm, T2={:.3f} N/mm, T3={:.3f} N/mm'.format(T1,T2,T3))"
   ]
  },
  {
   "cell_type": "markdown",
   "id": "50afab1c",
   "metadata": {},
   "source": [
    "接下来，我们先计算切向力大小\n",
    "$$ F_t = \\frac{T}{d/2} $$\n",
    "\n",
    "然后用它和压力角$\\alpha$一起计算径向力大小\n",
    "\n",
    "$$ F_r = F_t \\tan{(\\alpha)} $$"
   ]
  },
  {
   "cell_type": "code",
   "execution_count": null,
   "id": "bae32a96",
   "metadata": {},
   "outputs": [
    {
     "name": "stdout",
     "output_type": "stream",
     "text": [
      "切向力为 F1_small = 0.818 kN, F2_big = 0.787 kN, F2_small = 2.920 kN, F3_big = 2.795 kN\n",
      "径向力为 F1_small_r = 0.298 kN, F2_big_r = 0.286 kN, F2_small_r = 1.063 kN, F3_big_r = 1.017 kN\n"
     ]
    }
   ],
   "source": [
    "# 切向力\n",
    "F1_small = T1 / d1_small * 2\n",
    "F2_big = T2 / d2_big * 2\n",
    "F2_small = T2 / d2_small * 2\n",
    "F3_big = T3 / d3_big * 2\n",
    "# 计算径向力\n",
    "alpha = np.deg2rad(20)\n",
    "F1_small_r = F1_small * np.tan(alpha)\n",
    "F2_big_r = F2_big * np.tan(alpha)\n",
    "F2_small_r = F2_small * np.tan(alpha)\n",
    "F3_big_r = F3_big * np.tan(alpha)\n",
    "# 输出结果\n",
    "print('切向力为 F1_small = {:.3f} kN, F2_big = {:.3f} kN, F2_small = {:.3f} kN, F3_big = {:.3f} kN'.format(F1_small, F2_big, F2_small, F3_big))\n",
    "print('径向力为 F1_small_r = {:.3f} kN, F2_big_r = {:.3f} kN, F2_small_r = {:.3f} kN, F3_big_r = {:.3f} kN'.format(F1_small_r, F2_big_r, F2_small_r, F3_big_r))"
   ]
  },
  {
   "cell_type": "markdown",
   "id": "e26c57e4",
   "metadata": {},
   "source": [
    "接下来，我们要确定受力点的轴向位置。\n",
    "\n",
    "我们之前已经确定了：\n",
    "* 箱体内侧到轴承内侧的距离`ToBearIn`\n",
    "* 箱体内壁到齿轮的距离`Delta2`\n",
    "* 各个齿轮的宽度`b`\n",
    "* 大齿轮之间的距离`Delta3`\n",
    "\n",
    "首先不难得到箱体内部$x$方向的宽度 `boxWidth`\n",
    "\n",
    "$$ \\text{boxWidth} = 2\\Delta_2 + \\Delta_3+ b_{2,big} + b_{3,big} + (b_{1,small}-b_{2,big})/2 + (b_{2,small}-b_{3,big})/2\n",
    " $$"
   ]
  },
  {
   "cell_type": "code",
   "execution_count": 24,
   "id": "95cc1e31",
   "metadata": {},
   "outputs": [
    {
     "name": "stdout",
     "output_type": "stream",
     "text": [
      "减速箱内部宽: 107.800\n"
     ]
    }
   ],
   "source": [
    "box_width = 2*box['Delta_2'] + box['Delta_3'] + b2_big + b3_big + (b1_small-b2_big)/2 + (b2_small-b3_big)/2\n",
    "print('减速箱内部宽: {:.3f}'.format(box_width))"
   ]
  }
 ],
 "metadata": {
  "kernelspec": {
   "display_name": "Python 3",
   "language": "python",
   "name": "python3"
  },
  "language_info": {
   "codemirror_mode": {
    "name": "ipython",
    "version": 3
   },
   "file_extension": ".py",
   "mimetype": "text/x-python",
   "name": "python",
   "nbconvert_exporter": "python",
   "pygments_lexer": "ipython3",
   "version": "3.7.9"
  }
 },
 "nbformat": 4,
 "nbformat_minor": 5
}
