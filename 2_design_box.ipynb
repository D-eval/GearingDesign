{
 "cells": [
  {
   "cell_type": "markdown",
   "id": "52532d21",
   "metadata": {},
   "source": [
    "# 箱体和其他零件的尺寸设计\n",
    "\n",
    "我们现在已经得到了两级减速齿轮的所有参数，以及用工作扭矩计算的轴颈，我们把它封装到`design.design_all`里，可以通过输出牵引力、输送带速度、滚筒直径直接计算"
   ]
  },
  {
   "cell_type": "code",
   "execution_count": null,
   "id": "550e08c3",
   "metadata": {},
   "outputs": [
    {
     "name": "stdout",
     "output_type": "stream",
     "text": [
      "工作转速：41.236 rpm\n",
      "总效率为: 0.808\n",
      "电机所需功率为：2703.444 W\n",
      "总传动比为:35.285\n",
      "i1 = 6.773, i2 = 5.210\n",
      "轴1的转速为:1455.000, 轴2的转速为:214.831, 轴3的转速为:41.236\n",
      "P1 = 2119.887 W, P2 = 2035.939 W, P3 = 1955.316 W\n",
      "d1 = 11.677 mm, d2 = 21.797 mm, d3 = 37.281 mm\n",
      "T1 = 13.914 N*m, T2 = 90.505 N*m, T3 = 452.843 N*m\n",
      "epsilon_a = 1.691\n",
      "试算 d_1t = 32.64 mm\n",
      "实际 d_1H = 34.47 mm\n",
      "试算 m_t = 1.26 mm\n",
      "K_Fb = 1.15\n",
      "实际 m_F = 1.30 mm\n",
      "实际 d_1F = 22.09 mm\n",
      "齿面接触疲劳强度计算: m_H = 2.028, d_H = 34.469\n",
      "齿根弯曲疲劳强度计算: m_F = 1.300, d_F = 22.094\n",
      "\n",
      "    主要设计结论:\n",
      "    齿数z1 = 17\n",
      "    齿数z2 = 115\n",
      "    模数m = 2 mm\n",
      "    压力角alpha = 20°\n",
      "    中心距a = 132 mm\n",
      "    齿宽b1 = 32 mm\n",
      "    齿宽b2 = 27 mm\n",
      "    小齿轮选用40Cr(调质),\n",
      "    大齿轮选用45钢(调质),\n",
      "    7级精度\n",
      "    \n",
      "epsilon_a = 1.707\n",
      "试算 d_1t = 59.57 mm\n",
      "实际 d_1H = 62.04 mm\n",
      "试算 m_t = 2.09 mm\n",
      "K_Fb = 1.15\n",
      "实际 m_F = 2.01 mm\n",
      "实际 d_1F = 40.29 mm\n",
      "齿面接触疲劳强度计算: m_H = 3.102, d_H = 62.043\n",
      "齿根弯曲疲劳强度计算: m_F = 2.014, d_F = 40.288\n",
      "\n",
      "    主要设计结论:\n",
      "    齿数z1 = 31\n",
      "    齿数z2 = 162\n",
      "    模数m = 2 mm\n",
      "    压力角alpha = 20°\n",
      "    中心距a = 193 mm\n",
      "    齿宽b1 = 54 mm\n",
      "    齿宽b2 = 49 mm\n",
      "    小齿轮选用40Cr(调质),\n",
      "    大齿轮选用45钢(调质),\n",
      "    7级精度\n",
      "    \n",
      "齿数: z1_small = 17.000, z2_big = 115.000, z2_small = 31.000, z3_big = 162.000\n",
      "中心距 a12={:.3f} a23={:.3f}\n",
      "齿宽 b1_small=32.200 b2_big=27.200 b2_small=54.600 b3_big=49.600\n",
      "轴颈下界: d1=11.677 d2=21.797 d3=37.281\n",
      "分度圆直径 d1_small=34.000 d2_big=230.000 d2_small=62.000 d3_big=324.000\n"
     ]
    }
   ],
   "source": [
    "from design import design_all\n",
    "import numpy as np\n",
    "import matplotlib.pyplot as plt\n",
    "import json\n",
    "\n",
    "F_w = 2.3 #v kN\n",
    "v_w = 0.95 #m/s\n",
    "D = 440 #mm\n",
    "\n",
    "out1, out2, out_shaft = design_all(F_w, v_w, D)\n",
    "z1_small,z2_big,m12,b1_small,b2_big,a12 = out1\n",
    "z2_small,z3_big,m23,b2_small,b3_big,a23 = out2\n",
    "d1,d2,d3 = out_shaft[0]\n",
    "\n",
    "d1_small = z1_small * m12\n",
    "d2_big = z2_big * m12\n",
    "d2_small = z2_small * m23\n",
    "d3_big = z3_big * m23\n"
   ]
  },
  {
   "cell_type": "code",
   "execution_count": 3,
   "id": "9a846f5f",
   "metadata": {},
   "outputs": [
    {
     "name": "stdout",
     "output_type": "stream",
     "text": [
      "齿数: z1_small = 17.000, z2_big = 115.000, z2_small = 31.000, z3_big = 162.000\n",
      "中心距 a12=132.000 a23=193.000\n",
      "齿宽 b1_small=32.200 b2_big=27.200 b2_small=54.600 b3_big=49.600\n",
      "轴颈下界: d1=11.677 d2=21.797 d3=37.281\n",
      "分度圆直径 d1_small=34.000 d2_big=230.000 d2_small=62.000 d3_big=324.000\n"
     ]
    }
   ],
   "source": [
    "print('齿数: z1_small = {:.3f}, z2_big = {:.3f}, z2_small = {:.3f}, z3_big = {:.3f}'.format(z1_small,z2_big,z2_small,z3_big))\n",
    "print('中心距 a12={:.3f} a23={:.3f}'.format(a12,a23))\n",
    "print('齿宽 b1_small={:.3f} b2_big={:.3f} b2_small={:.3f} b3_big={:.3f}'.format(b1_small,b2_big,b2_small,b3_big))\n",
    "print('轴颈下界: d1={:.3f} d2={:.3f} d3={:.3f}'.format(d1,d2,d3))\n",
    "print('分度圆直径 d1_small={:.3f} d2_big={:.3f} d2_small={:.3f} d3_big={:.3f}'.format(d1_small,d2_big,d2_small,d3_big))"
   ]
  },
  {
   "cell_type": "markdown",
   "id": "0b31ccb3",
   "metadata": {},
   "source": [
    "现在我们来设计箱体\n",
    "\n",
    "## 设计螺栓\n",
    "\n",
    "根据机械设计`课程设计 Page 23`我们发现每一个螺栓拥有三个参数\n",
    "\n",
    "* $c_1$: 至外箱壁距离\n",
    "* $c_2$: 至凸边缘的距离\n",
    "* $D_0$: 沉头座坑直径\n",
    "* $d$: 螺栓直径\n",
    "\n",
    "因此，我们做了以下的事情\n",
    "* 建立一个类`Bolt`用于表示螺栓\n",
    "* 录制`课程设计 Page 23 表 5-3`为一个字典`Bolt_to_c1c2D0`\n",
    "* 定义了一个函数`select_bolt(d)`，给定螺栓计算直径，选择合适的螺栓直径"
   ]
  },
  {
   "cell_type": "code",
   "execution_count": null,
   "id": "b69eb95c",
   "metadata": {},
   "outputs": [],
   "source": [
    "ALL_BOLT = [8,10,12,16,20,24,30]\n",
    "def select_bolt(d):\n",
    "    k = ALL_BOLT\n",
    "    k = np.array(k)\n",
    "    d = np.abs(k - d)\n",
    "    idx = np.argmin(d)\n",
    "    return ALL_BOLT[idx]\n",
    "\n",
    "Bolt_to_c1c2D0 = {\n",
    "    8: (13,11,18),\n",
    "    10: (16,14,22),\n",
    "    12: (18,16,26),\n",
    "    16: (22,20,33),\n",
    "    20: (26,24,20),\n",
    "    24: (34,28,48),\n",
    "    30: (40,34,61)\n",
    "}\n",
    "\n",
    "\n",
    "class Bolt:\n",
    "    def __init__(self, d):\n",
    "        self.d = d\n",
    "        self.d = select_bolt(self.d)\n",
    "        self.c1, self.c2, self.D0 = Bolt_to_c1c2D0[self.d]\n",
    "    def __dict__(self):\n",
    "        return {'d':self.d, 'c1':self.c1, 'c2':self.c2, 'D0':self.D0}\n",
    "    \n"
   ]
  },
  {
   "cell_type": "markdown",
   "id": "8f70cf16",
   "metadata": {},
   "source": [
    "接下来，我们创建了一个字典`box`用于储存箱体的设计尺寸，根据`课程设计 Page 23 表5-2`进行设计各个尺寸。"
   ]
  },
  {
   "cell_type": "code",
   "execution_count": 5,
   "id": "2d17d0f1",
   "metadata": {},
   "outputs": [],
   "source": [
    "box = {}"
   ]
  },
  {
   "cell_type": "markdown",
   "id": "b2993d1d",
   "metadata": {},
   "source": [
    "首先计算箱座壁厚，由`表5-1`知，对于二级圆柱齿轮减速器，由第二齿轮副的中心距决定\n",
    "\n",
    "$$\\delta = \\max \\{0.025a + 1, 8 \\}$$"
   ]
  },
  {
   "cell_type": "code",
   "execution_count": 6,
   "id": "01a7f642",
   "metadata": {},
   "outputs": [
    {
     "name": "stdout",
     "output_type": "stream",
     "text": [
      "delta = 8.000 mm\n"
     ]
    }
   ],
   "source": [
    "box['delta'] = max(8, 0.025*a23+3)\n",
    "print('delta = {:.3f} mm'.format(box['delta']))"
   ]
  },
  {
   "cell_type": "markdown",
   "id": "8fa4ddc2",
   "metadata": {},
   "source": [
    "箱盖壁厚：\n",
    "$$ \\delta_1 = \\max \\{ 0.85 \\delta, 8 \\} $$\n"
   ]
  },
  {
   "cell_type": "code",
   "execution_count": 7,
   "id": "653976ef",
   "metadata": {},
   "outputs": [
    {
     "name": "stdout",
     "output_type": "stream",
     "text": [
      "delta_1 = 8.000 mm\n"
     ]
    }
   ],
   "source": [
    "box['delta_1'] = max(0.85*box['delta'], 8)\n",
    "print('delta_1 = {:.3f} mm'.format(box['delta_1']))"
   ]
  },
  {
   "cell_type": "markdown",
   "id": "66fda61d",
   "metadata": {},
   "source": [
    "地脚螺栓直径：\n",
    "$$ d_f = 0.036a + 12 $$\n",
    "传入`Bolt`中自动化整选型"
   ]
  },
  {
   "cell_type": "code",
   "execution_count": null,
   "id": "05741e7c",
   "metadata": {},
   "outputs": [],
   "source": [
    "box['d_f'] = Bolt(0.036 * a23 + 12)"
   ]
  }
 ],
 "metadata": {
  "kernelspec": {
   "display_name": "Python 3",
   "language": "python",
   "name": "python3"
  },
  "language_info": {
   "codemirror_mode": {
    "name": "ipython",
    "version": 3
   },
   "file_extension": ".py",
   "mimetype": "text/x-python",
   "name": "python",
   "nbconvert_exporter": "python",
   "pygments_lexer": "ipython3",
   "version": "3.7.9"
  }
 },
 "nbformat": 4,
 "nbformat_minor": 5
}
